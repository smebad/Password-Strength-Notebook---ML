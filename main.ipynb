{
  "cells": [
    {
      "cell_type": "markdown",
      "metadata": {
        "id": "OtuORSFw_DpH"
      },
      "source": [
        "# Password Strength - ML\n",
        "\n",
        "`Author:` [Syed Muhammad Ebad](https://www.kaggle.com/syedmuhammadebad)\\\n",
        "`Date:` 18-Sept-2024\\\n",
        "[Send me an email](mailto:mohammadebad1@hotmail.com)\\\n",
        "[Visit my GitHub profile](https://github.com/smebad)\n",
        "\n",
        "[Dataset used in this notebook](https://www.kaggle.com/datasets/bhavikbb/password-strength-classifier-dataset)\n",
        "\n",
        "## Introduction\n",
        "In this notebook, we explore a machine learning approach to classify the strength of passwords based on their composition. We use a RandomForestClassifier combined with TF-IDF vectorization to predict whether a password is \"Weak\", \"Medium\", or \"Strong\".\n"
      ]
    },
    {
      "cell_type": "markdown",
      "metadata": {
        "id": "HwCc_PfPA2j9"
      },
      "source": [
        "## Dataset\n",
        "The dataset used in this project contains password-strength pairs, with the strength labeled as 0 (Weak), 1 (Medium), or 2 (Strong). Here's a preview of the dataset:"
      ]
    },
    {
      "cell_type": "code",
      "execution_count": 1,
      "metadata": {
        "id": "eRvGkxa9_DpI"
      },
      "outputs": [],
      "source": [
        "# Importing Libraries\n",
        "import pandas as pd\n",
        "import numpy as np\n",
        "from sklearn.feature_extraction.text import CountVectorizer\n",
        "from sklearn.feature_extraction.text import TfidfVectorizer\n",
        "from sklearn.model_selection import train_test_split\n",
        "from sklearn.ensemble import RandomForestClassifier\n",
        "import getpass\n",
        "import warnings\n",
        "warnings.filterwarnings(\"ignore\")"
      ]
    },
    {
      "cell_type": "code",
      "execution_count": 2,
      "metadata": {
        "colab": {
          "base_uri": "https://localhost:8080/"
        },
        "id": "G0SReUhT_DpJ",
        "outputId": "a5d4ecd8-af40-49de-9500-3e44ea0beb84"
      },
      "outputs": [
        {
          "name": "stdout",
          "output_type": "stream",
          "text": [
            "           password  strength\n",
            "0          kzde5577         1\n",
            "1          kino3434         1\n",
            "2         visi7k1yr         1\n",
            "3          megzy123         1\n",
            "4       lamborghin1         1\n",
            "5  AVYq1lDE4MgAZfNt         2\n",
            "6          u6c8vhow         1\n",
            "7          v1118714         1\n",
            "8      universe2908         1\n",
            "9          as326159         1\n"
          ]
        }
      ],
      "source": [
        "# load the dataset\n",
        "df = pd.read_csv('data.csv', on_bad_lines='skip')\n",
        "print (df.head(10))"
      ]
    },
    {
      "cell_type": "code",
      "execution_count": 3,
      "metadata": {
        "colab": {
          "base_uri": "https://localhost:8080/"
        },
        "id": "dz2zshSw_DpJ",
        "outputId": "2e0af722-71af-403d-a3f2-fa09e66a8461"
      },
      "outputs": [
        {
          "name": "stdout",
          "output_type": "stream",
          "text": [
            "<class 'pandas.core.frame.DataFrame'>\n",
            "RangeIndex: 669640 entries, 0 to 669639\n",
            "Data columns (total 2 columns):\n",
            " #   Column    Non-Null Count   Dtype \n",
            "---  ------    --------------   ----- \n",
            " 0   password  669639 non-null  object\n",
            " 1   strength  669640 non-null  int64 \n",
            "dtypes: int64(1), object(1)\n",
            "memory usage: 10.2+ MB\n"
          ]
        }
      ],
      "source": [
        "df.info()"
      ]
    },
    {
      "cell_type": "markdown",
      "metadata": {
        "id": "vhEM6sKCA_sx"
      },
      "source": [
        "## Data Exploration\n",
        "We begin by examining the dataset to ensure it's clean and well-formatted. The dataset is checked for missing values and the strength column is mapped to descriptive labels."
      ]
    },
    {
      "cell_type": "code",
      "execution_count": 4,
      "metadata": {
        "colab": {
          "base_uri": "https://localhost:8080/"
        },
        "id": "M-0q5tqX_DpJ",
        "outputId": "1a8f286a-1f43-456f-9a38-2e7e84d71ec9"
      },
      "outputs": [
        {
          "name": "stdout",
          "output_type": "stream",
          "text": [
            "           password         strength\n",
            "0          kzde5577  Medium Password\n",
            "1          kino3434  Medium Password\n",
            "2         visi7k1yr  Medium Password\n",
            "3          megzy123  Medium Password\n",
            "4       lamborghin1  Medium Password\n",
            "5  AVYq1lDE4MgAZfNt  Strong Password\n",
            "6          u6c8vhow  Medium Password\n",
            "7          v1118714  Medium Password\n",
            "8      universe2908  Medium Password\n",
            "9          as326159  Medium Password\n"
          ]
        }
      ],
      "source": [
        "df = df.dropna()\n",
        "df[\"strength\"] = df[\"strength\"].map({0: \"Weak Password\", 1: \"Medium Password\", 2: \"Strong Password\"})\n",
        "\n",
        "print(df.head(10))"
      ]
    },
    {
      "cell_type": "markdown",
      "metadata": {
        "id": "JToBhkCABEIq"
      },
      "source": [
        "## Data Preprocessing\n",
        "### Tokenization:\n",
        "\n",
        "A custom tokenizer is defined to convert each password into a list of characters, which is necessary for the TF-IDF vectorizer."
      ]
    },
    {
      "cell_type": "code",
      "execution_count": 5,
      "metadata": {
        "id": "tqY9fPe-_DpJ"
      },
      "outputs": [],
      "source": [
        "def word(password):\n",
        "  character = []\n",
        "  for i in password:\n",
        "    character.append(i)\n",
        "  return character\n"
      ]
    },
    {
      "cell_type": "markdown",
      "metadata": {
        "id": "2CpmlxGoBM6n"
      },
      "source": [
        "## Vectorization\n",
        "We use the TfidfVectorizer to convert passwords into a numerical format that the machine learning model can understand."
      ]
    },
    {
      "cell_type": "code",
      "execution_count": null,
      "metadata": {
        "id": "JaiALL6nBPAJ"
      },
      "outputs": [],
      "source": [
        "x = np.array(df[\"password\"])\n",
        "y = np.array(df[\"strength\"])\n",
        "\n",
        "cv = TfidfVectorizer(tokenizer=word)\n",
        "X = cv.fit_transform(x)"
      ]
    },
    {
      "cell_type": "markdown",
      "metadata": {
        "id": "SlyBBU-RBXeJ"
      },
      "source": [
        "##Train-Test Split\n",
        "The data is split into training and testing sets to evaluate the model's performance."
      ]
    },
    {
      "cell_type": "code",
      "execution_count": 6,
      "metadata": {
        "id": "C2TLuycY_DpJ"
      },
      "outputs": [],
      "source": [
        "xtrain, xtest, ytrain, ytest = train_test_split(X, y, test_size=0.05, random_state=42)"
      ]
    },
    {
      "cell_type": "markdown",
      "metadata": {
        "id": "nsEfvfX0Baoo"
      },
      "source": [
        "## Model Training\n",
        "A RandomForestClassifier is trained on the training data. We use 50 estimators and a maximum depth of 10 for this model, with class weights balanced to handle any imbalanced classes."
      ]
    },
    {
      "cell_type": "code",
      "execution_count": 7,
      "metadata": {
        "colab": {
          "base_uri": "https://localhost:8080/"
        },
        "id": "8eszV8S1_DpJ",
        "outputId": "6d8048d0-16fc-42f9-ff5a-03187e40b20d"
      },
      "outputs": [
        {
          "name": "stdout",
          "output_type": "stream",
          "text": [
            "Training Accuracy:  0.8332188437759861\n"
          ]
        }
      ],
      "source": [
        "rfc = RandomForestClassifier(n_estimators=50, max_depth=10, n_jobs=-1, class_weight='balanced')\n",
        "rfc.fit(xtrain, ytrain)\n",
        "print(\"Training Accuracy: \", rfc.score(xtrain, ytrain))"
      ]
    },
    {
      "cell_type": "markdown",
      "metadata": {
        "id": "7ruO5vtEBh6n"
      },
      "source": [
        "## Model Prediction\n",
        "We test the model by predicting the strength of a password entered by the user."
      ]
    },
    {
      "cell_type": "code",
      "execution_count": 9,
      "metadata": {
        "colab": {
          "base_uri": "https://localhost:8080/"
        },
        "id": "CAIrslRn_DpK",
        "outputId": "28cb1040-a9bf-4f95-af0c-bbc9c028a023"
      },
      "outputs": [
        {
          "name": "stdout",
          "output_type": "stream",
          "text": [
            "Enter Password: ··········\n",
            "Your Password is:  Medium Password\n"
          ]
        }
      ],
      "source": [
        "user = getpass.getpass(\"Enter Password: \")\n",
        "data = cv.transform([user]).toarray()\n",
        "output = rfc.predict(data)\n",
        "print(\"Your Password is: \", output[0])"
      ]
    },
    {
      "cell_type": "markdown",
      "metadata": {
        "id": "XUHzcYelBo6P"
      },
      "source": [
        "# Summary\n",
        "In this notebook, we implemented a password strength classification system using a RandomForestClassifier and TF-IDF vectorization. The model achieved an accuracy of approximately 83% on the training data. The system is capable of classifying passwords into three categories: Weak, Medium, or Strong."
      ]
    }
  ],
  "metadata": {
    "accelerator": "GPU",
    "colab": {
      "gpuType": "T4",
      "provenance": []
    },
    "kernelspec": {
      "display_name": "Python 3",
      "name": "python3"
    },
    "language_info": {
      "codemirror_mode": {
        "name": "ipython",
        "version": 3
      },
      "file_extension": ".py",
      "mimetype": "text/x-python",
      "name": "python",
      "nbconvert_exporter": "python",
      "pygments_lexer": "ipython3",
      "version": "3.11.9"
    }
  },
  "nbformat": 4,
  "nbformat_minor": 0
}
